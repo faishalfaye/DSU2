{
  "nbformat": 4,
  "nbformat_minor": 0,
  "metadata": {
    "colab": {
      "name": "Welcome To Colaboratory",
      "provenance": [],
      "collapsed_sections": [],
      "toc_visible": true
    },
    "kernelspec": {
      "display_name": "Python 3",
      "name": "python3"
    },
    "accelerator": "GPU"
  },
  "cells": [
    {
      "cell_type": "markdown",
      "metadata": {
        "id": "zq6lELn4R96g"
      },
      "source": [
        "Prediksi umur abalone menggunakan kondisi pengukuran fisik. Umur abalone ditentukan dengan memotong cangkangnya, menodai, dan menghitung jumlah 'ring' melalui mikroskop.\n",
        "\n",
        "\n",
        "*   Sex \t\t\t: Male, Female, and I (infant)\n",
        "*   Length \t\t: Panjang cangkang dalam milimeter\n",
        "*   Diameter \t\t: Diameter dalam milimeter\n",
        "*   Height \t\t\t: Tinggi termasuk daging dalam cangkang dalam milimeter\n",
        "*   Whole weight \t\t: Berat keseluruhan abalone dalam gram\n",
        "*   Shucked weight\t: Berat daging abalone gram\n",
        "*   Viscera weight \t: Berat usus abalone setelah dikeringkan gram\n",
        "*   Shell weight \t\t: Berat cangkang setelah dikeringkan gram\n",
        "*   Rings \t\t\t: Jumlah rings yang jika ditambahkan 1.5 akan menunjukkan umur abalon "
      ]
    },
    {
      "cell_type": "code",
      "metadata": {
        "colab": {
          "base_uri": "https://localhost:8080/"
        },
        "id": "m1OsSuz1Q8ZK",
        "outputId": "b38d6b17-62a1-4867-f614-120e060cb864"
      },
      "source": [
        "from google.colab import drive\n",
        "drive.mount('/content/gdrive')"
      ],
      "execution_count": 2,
      "outputs": [
        {
          "output_type": "stream",
          "text": [
            "Mounted at /content/gdrive\n"
          ],
          "name": "stdout"
        }
      ]
    },
    {
      "cell_type": "code",
      "metadata": {
        "colab": {
          "base_uri": "https://localhost:8080/"
        },
        "id": "9XH0XItyQ8yR",
        "outputId": "3377d65f-d9fd-4c53-f8c8-e2fb10ba30a7"
      },
      "source": [
        "import pandas as pd\n",
        "from sklearn.model_selection import train_test_split\n",
        "import numpy as np"
      ],
      "execution_count": 3,
      "outputs": [
        {
          "output_type": "stream",
          "text": [
            "/usr/local/lib/python3.7/dist-packages/statsmodels/tools/_testing.py:19: FutureWarning: pandas.util.testing is deprecated. Use the functions in the public API at pandas.testing instead.\n",
            "  import pandas.util.testing as tm\n"
          ],
          "name": "stderr"
        }
      ]
    },
    {
      "cell_type": "code",
      "metadata": {
        "colab": {
          "base_uri": "https://localhost:8080/",
          "height": 419
        },
        "id": "c1Wb2TTORMer",
        "outputId": "b8cd3b43-6649-4146-d18e-9c2db80c389c"
      },
      "source": [
        "df = pd.read_csv('/content/gdrive/MyDrive/DSU/Project 2 DSU Batch 2/Salinan Abalone.csv')\n",
        "df"
      ],
      "execution_count": 4,
      "outputs": [
        {
          "output_type": "execute_result",
          "data": {
            "text/html": [
              "<div>\n",
              "<style scoped>\n",
              "    .dataframe tbody tr th:only-of-type {\n",
              "        vertical-align: middle;\n",
              "    }\n",
              "\n",
              "    .dataframe tbody tr th {\n",
              "        vertical-align: top;\n",
              "    }\n",
              "\n",
              "    .dataframe thead th {\n",
              "        text-align: right;\n",
              "    }\n",
              "</style>\n",
              "<table border=\"1\" class=\"dataframe\">\n",
              "  <thead>\n",
              "    <tr style=\"text-align: right;\">\n",
              "      <th></th>\n",
              "      <th>Sex</th>\n",
              "      <th>Length</th>\n",
              "      <th>Diameter</th>\n",
              "      <th>Height</th>\n",
              "      <th>Whole weight</th>\n",
              "      <th>Shucked weight</th>\n",
              "      <th>Viscera weight</th>\n",
              "      <th>Shell weight</th>\n",
              "      <th>Rings</th>\n",
              "    </tr>\n",
              "  </thead>\n",
              "  <tbody>\n",
              "    <tr>\n",
              "      <th>0</th>\n",
              "      <td>M</td>\n",
              "      <td>0.455</td>\n",
              "      <td>0.365</td>\n",
              "      <td>0.095</td>\n",
              "      <td>0.5140</td>\n",
              "      <td>0.2245</td>\n",
              "      <td>0.1010</td>\n",
              "      <td>0.1500</td>\n",
              "      <td>15</td>\n",
              "    </tr>\n",
              "    <tr>\n",
              "      <th>1</th>\n",
              "      <td>M</td>\n",
              "      <td>0.350</td>\n",
              "      <td>0.265</td>\n",
              "      <td>0.090</td>\n",
              "      <td>0.2255</td>\n",
              "      <td>0.0995</td>\n",
              "      <td>0.0485</td>\n",
              "      <td>0.0700</td>\n",
              "      <td>7</td>\n",
              "    </tr>\n",
              "    <tr>\n",
              "      <th>2</th>\n",
              "      <td>F</td>\n",
              "      <td>0.530</td>\n",
              "      <td>0.420</td>\n",
              "      <td>0.135</td>\n",
              "      <td>0.6770</td>\n",
              "      <td>0.2565</td>\n",
              "      <td>0.1415</td>\n",
              "      <td>0.2100</td>\n",
              "      <td>9</td>\n",
              "    </tr>\n",
              "    <tr>\n",
              "      <th>3</th>\n",
              "      <td>M</td>\n",
              "      <td>0.440</td>\n",
              "      <td>0.365</td>\n",
              "      <td>0.125</td>\n",
              "      <td>0.5160</td>\n",
              "      <td>0.2155</td>\n",
              "      <td>0.1140</td>\n",
              "      <td>0.1550</td>\n",
              "      <td>10</td>\n",
              "    </tr>\n",
              "    <tr>\n",
              "      <th>4</th>\n",
              "      <td>I</td>\n",
              "      <td>0.330</td>\n",
              "      <td>0.255</td>\n",
              "      <td>0.080</td>\n",
              "      <td>0.2050</td>\n",
              "      <td>0.0895</td>\n",
              "      <td>0.0395</td>\n",
              "      <td>0.0550</td>\n",
              "      <td>7</td>\n",
              "    </tr>\n",
              "    <tr>\n",
              "      <th>...</th>\n",
              "      <td>...</td>\n",
              "      <td>...</td>\n",
              "      <td>...</td>\n",
              "      <td>...</td>\n",
              "      <td>...</td>\n",
              "      <td>...</td>\n",
              "      <td>...</td>\n",
              "      <td>...</td>\n",
              "      <td>...</td>\n",
              "    </tr>\n",
              "    <tr>\n",
              "      <th>4172</th>\n",
              "      <td>F</td>\n",
              "      <td>0.565</td>\n",
              "      <td>0.450</td>\n",
              "      <td>0.165</td>\n",
              "      <td>0.8870</td>\n",
              "      <td>0.3700</td>\n",
              "      <td>0.2390</td>\n",
              "      <td>0.2490</td>\n",
              "      <td>11</td>\n",
              "    </tr>\n",
              "    <tr>\n",
              "      <th>4173</th>\n",
              "      <td>M</td>\n",
              "      <td>0.590</td>\n",
              "      <td>0.440</td>\n",
              "      <td>0.135</td>\n",
              "      <td>0.9660</td>\n",
              "      <td>0.4390</td>\n",
              "      <td>0.2145</td>\n",
              "      <td>0.2605</td>\n",
              "      <td>10</td>\n",
              "    </tr>\n",
              "    <tr>\n",
              "      <th>4174</th>\n",
              "      <td>M</td>\n",
              "      <td>0.600</td>\n",
              "      <td>0.475</td>\n",
              "      <td>0.205</td>\n",
              "      <td>1.1760</td>\n",
              "      <td>0.5255</td>\n",
              "      <td>0.2875</td>\n",
              "      <td>0.3080</td>\n",
              "      <td>9</td>\n",
              "    </tr>\n",
              "    <tr>\n",
              "      <th>4175</th>\n",
              "      <td>F</td>\n",
              "      <td>0.625</td>\n",
              "      <td>0.485</td>\n",
              "      <td>0.150</td>\n",
              "      <td>1.0945</td>\n",
              "      <td>0.5310</td>\n",
              "      <td>0.2610</td>\n",
              "      <td>0.2960</td>\n",
              "      <td>10</td>\n",
              "    </tr>\n",
              "    <tr>\n",
              "      <th>4176</th>\n",
              "      <td>M</td>\n",
              "      <td>0.710</td>\n",
              "      <td>0.555</td>\n",
              "      <td>0.195</td>\n",
              "      <td>1.9485</td>\n",
              "      <td>0.9455</td>\n",
              "      <td>0.3765</td>\n",
              "      <td>0.4950</td>\n",
              "      <td>12</td>\n",
              "    </tr>\n",
              "  </tbody>\n",
              "</table>\n",
              "<p>4177 rows × 9 columns</p>\n",
              "</div>"
            ],
            "text/plain": [
              "     Sex  Length  Diameter  ...  Viscera weight  Shell weight  Rings\n",
              "0      M   0.455     0.365  ...          0.1010        0.1500     15\n",
              "1      M   0.350     0.265  ...          0.0485        0.0700      7\n",
              "2      F   0.530     0.420  ...          0.1415        0.2100      9\n",
              "3      M   0.440     0.365  ...          0.1140        0.1550     10\n",
              "4      I   0.330     0.255  ...          0.0395        0.0550      7\n",
              "...   ..     ...       ...  ...             ...           ...    ...\n",
              "4172   F   0.565     0.450  ...          0.2390        0.2490     11\n",
              "4173   M   0.590     0.440  ...          0.2145        0.2605     10\n",
              "4174   M   0.600     0.475  ...          0.2875        0.3080      9\n",
              "4175   F   0.625     0.485  ...          0.2610        0.2960     10\n",
              "4176   M   0.710     0.555  ...          0.3765        0.4950     12\n",
              "\n",
              "[4177 rows x 9 columns]"
            ]
          },
          "metadata": {},
          "execution_count": 4
        }
      ]
    },
    {
      "cell_type": "markdown",
      "metadata": {
        "id": "DT-dTAqwTGv6"
      },
      "source": [
        "Karena kita ingin memprediksi umur (Age), maka variabel Age nantinya akan menjadi variabel dependen atau target. Akan tetapi variabel age belum ada, maka harus dibuat terlebih dahulu. Berdasarkan dari deskripsi pada dataset, kolom Age bisa didapat dari penjumlahan 1.5 dengan data setiap row di kolom Rings"
      ]
    },
    {
      "cell_type": "code",
      "metadata": {
        "id": "BPJOt0tbRNtg"
      },
      "source": [
        "df[\"Age\"] = df[\"Rings\"] + 1.5"
      ],
      "execution_count": 5,
      "outputs": []
    },
    {
      "cell_type": "code",
      "metadata": {
        "id": "OfoFFXGhRQCF"
      },
      "source": [
        "# memisahkan features dan target\n",
        "y = df.Age\n",
        "X = df.drop(['Age'], axis=1)"
      ],
      "execution_count": 6,
      "outputs": []
    },
    {
      "cell_type": "code",
      "metadata": {
        "id": "IeQO4WaiTjPV"
      },
      "source": [
        "# membagi dataset menjadi train set dan validation set (80 20)\n",
        "X_train_full, X_valid_full, y_train, y_valid = train_test_split(X, y, train_size=0.8, test_size=0.2, random_state=0)"
      ],
      "execution_count": 7,
      "outputs": []
    },
    {
      "cell_type": "markdown",
      "metadata": {
        "id": "CvVGw2M3Wz5Q"
      },
      "source": [
        "## Metode 1 Drop Sex"
      ]
    },
    {
      "cell_type": "code",
      "metadata": {
        "id": "pM_OjvUdWdy_"
      },
      "source": [
        "drop_X_train = X_train_full.select_dtypes(exclude=['object'])\n",
        "drop_X_valid = X_valid_full.select_dtypes(exclude=['object'])"
      ],
      "execution_count": 8,
      "outputs": []
    },
    {
      "cell_type": "code",
      "metadata": {
        "colab": {
          "base_uri": "https://localhost:8080/"
        },
        "id": "ab5C75PRW8_D",
        "outputId": "70f6db90-b331-42fd-8666-385fc1c36707"
      },
      "source": [
        "from sklearn.linear_model import LinearRegression\n",
        "\n",
        "reg = LinearRegression()\n",
        "reg.fit(drop_X_train, y_train)"
      ],
      "execution_count": 9,
      "outputs": [
        {
          "output_type": "execute_result",
          "data": {
            "text/plain": [
              "LinearRegression(copy_X=True, fit_intercept=True, n_jobs=None, normalize=False)"
            ]
          },
          "metadata": {},
          "execution_count": 9
        }
      ]
    },
    {
      "cell_type": "code",
      "metadata": {
        "colab": {
          "base_uri": "https://localhost:8080/"
        },
        "id": "kD-5IVQFdsu_",
        "outputId": "93524eec-e419-4066-a3b9-c19d621b2b4b"
      },
      "source": [
        "# Mencari nilai R - squared untuk mengukur explanatory power dari features\n",
        "r2 = reg.score(drop_X_valid, y_valid)\n",
        "r2"
      ],
      "execution_count": 10,
      "outputs": [
        {
          "output_type": "execute_result",
          "data": {
            "text/plain": [
              "1.0"
            ]
          },
          "metadata": {},
          "execution_count": 10
        }
      ]
    },
    {
      "cell_type": "markdown",
      "metadata": {
        "id": "VuqUN5YhjXXz"
      },
      "source": [
        "![adjusted r squared.jpeg](data:image/jpeg;base64,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)"
      ]
    },
    {
      "cell_type": "code",
      "metadata": {
        "id": "-qcgGrPgqgEZ"
      },
      "source": [
        "def adjusted_r2(r2, n, p):\n",
        "  return 1 - (((1-r2)*(n-1)) / (n-p-1))"
      ],
      "execution_count": 11,
      "outputs": []
    },
    {
      "cell_type": "code",
      "metadata": {
        "colab": {
          "base_uri": "https://localhost:8080/"
        },
        "id": "pVlSrPJqia3n",
        "outputId": "05ae074b-7f36-4312-ea28-b1ff32dc36bc"
      },
      "source": [
        "drop_X_valid.shape"
      ],
      "execution_count": 12,
      "outputs": [
        {
          "output_type": "execute_result",
          "data": {
            "text/plain": [
              "(836, 8)"
            ]
          },
          "metadata": {},
          "execution_count": 12
        }
      ]
    },
    {
      "cell_type": "code",
      "metadata": {
        "colab": {
          "base_uri": "https://localhost:8080/"
        },
        "id": "NwO_ek7hgy9F",
        "outputId": "65a96d18-d551-4f0f-f6be-3ef07b79d60d"
      },
      "source": [
        "# adjusted r2\n",
        "n = drop_X_valid.shape[0]\n",
        "p = drop_X_valid.shape[1]\n",
        "adjusted_r2(r2, n, p)\n"
      ],
      "execution_count": 13,
      "outputs": [
        {
          "output_type": "execute_result",
          "data": {
            "text/plain": [
              "1.0"
            ]
          },
          "metadata": {},
          "execution_count": 13
        }
      ]
    },
    {
      "cell_type": "markdown",
      "metadata": {
        "id": "qnlocICXnUEB"
      },
      "source": [
        "## Metode 2 Drop Sex + Drop Rings"
      ]
    },
    {
      "cell_type": "code",
      "metadata": {
        "id": "3kR7rcS3j0LH"
      },
      "source": [
        "dropRings_Xtrain = drop_X_train.drop(\"Rings\", axis=1)\n",
        "dropRings_Xvalid = drop_X_valid.drop(\"Rings\", axis=1)"
      ],
      "execution_count": 14,
      "outputs": []
    },
    {
      "cell_type": "code",
      "metadata": {
        "colab": {
          "base_uri": "https://localhost:8080/"
        },
        "id": "nr-C1Z-fokJC",
        "outputId": "ed2bcad3-dcc3-484b-f872-1c9216fb61db"
      },
      "source": [
        "reg.fit(dropRings_Xtrain, y_train)"
      ],
      "execution_count": 15,
      "outputs": [
        {
          "output_type": "execute_result",
          "data": {
            "text/plain": [
              "LinearRegression(copy_X=True, fit_intercept=True, n_jobs=None, normalize=False)"
            ]
          },
          "metadata": {},
          "execution_count": 15
        }
      ]
    },
    {
      "cell_type": "code",
      "metadata": {
        "colab": {
          "base_uri": "https://localhost:8080/"
        },
        "id": "nhyoHa33pNJu",
        "outputId": "d002fe51-5027-477b-fdb4-5c3529b073c6"
      },
      "source": [
        "# Mencari nilai R - squared untuk mengukur explanatory power dari features\n",
        "r2 = reg.score(dropRings_Xvalid, y_valid)\n",
        "r2"
      ],
      "execution_count": 16,
      "outputs": [
        {
          "output_type": "execute_result",
          "data": {
            "text/plain": [
              "0.5300888107050662"
            ]
          },
          "metadata": {},
          "execution_count": 16
        }
      ]
    },
    {
      "cell_type": "code",
      "metadata": {
        "colab": {
          "base_uri": "https://localhost:8080/"
        },
        "id": "GLf1yK-6pZw2",
        "outputId": "b4671517-9293-4cbf-adb0-49fb320a111c"
      },
      "source": [
        "dropRings_Xvalid.shape"
      ],
      "execution_count": 17,
      "outputs": [
        {
          "output_type": "execute_result",
          "data": {
            "text/plain": [
              "(836, 7)"
            ]
          },
          "metadata": {},
          "execution_count": 17
        }
      ]
    },
    {
      "cell_type": "code",
      "metadata": {
        "colab": {
          "base_uri": "https://localhost:8080/"
        },
        "id": "MkPSzAN_r3Ad",
        "outputId": "caeb7121-28e4-4ff6-91df-b4ddea71a50d"
      },
      "source": [
        "# adjusted r2\n",
        "n = dropRings_Xvalid.shape[0]\n",
        "p = dropRings_Xvalid.shape[1]\n",
        "adjusted_r2(r2, n, p)"
      ],
      "execution_count": 18,
      "outputs": [
        {
          "output_type": "execute_result",
          "data": {
            "text/plain": [
              "0.5261161315685148"
            ]
          },
          "metadata": {},
          "execution_count": 18
        }
      ]
    },
    {
      "cell_type": "markdown",
      "metadata": {
        "id": "UCWltHG7tRCY"
      },
      "source": [
        "## Metode 3 One-Hot-Encoding Sex + Drop Rings"
      ]
    },
    {
      "cell_type": "code",
      "metadata": {
        "id": "C3ujf8H1wFLt"
      },
      "source": [
        "X_train_full = X_train_full.drop(\"Rings\", axis=1)\n",
        "X_valid_full = X_valid_full.drop(\"Rings\", axis=1)"
      ],
      "execution_count": 19,
      "outputs": []
    },
    {
      "cell_type": "code",
      "metadata": {
        "id": "Kn0_5BIpsVIo"
      },
      "source": [
        "from sklearn.preprocessing import OneHotEncoder\n",
        "\n",
        "X_train_full[\"Sex\"] = X_train_full['Sex'].astype('category').cat.codes.astype(\"float\")\n",
        "X_valid_full[\"Sex\"] = X_valid_full['Sex'].astype('category').cat.codes.astype(\"float\")\n",
        "\n",
        "OH_encoder = OneHotEncoder(handle_unknown='ignore', sparse=False)\n",
        "OH_cols_train = pd.DataFrame(OH_encoder.fit_transform(X_train_full[[\"Sex\"]]))\n",
        "OH_cols_valid = pd.DataFrame(OH_encoder.transform(X_valid_full[[\"Sex\"]]))\n",
        "\n",
        "\n",
        "# One-hot encoding removed index; put it back\n",
        "OH_cols_train.index = X_train_full.index\n",
        "OH_cols_valid.index = X_valid_full.index\n",
        "\n",
        "# Remove categorical columns (will replace with one-hot encoding)\n",
        "num_X_train = X_train_full.drop(\"Sex\", axis=1)\n",
        "num_X_valid = X_valid_full.drop(\"Sex\", axis=1)\n",
        "\n",
        "# Add one-hot encoded columns to numerical features\n",
        "OH_X_train = pd.concat([num_X_train, OH_cols_train], axis=1)\n",
        "OH_X_valid = pd.concat([num_X_valid, OH_cols_valid], axis=1)"
      ],
      "execution_count": 20,
      "outputs": []
    },
    {
      "cell_type": "code",
      "metadata": {
        "colab": {
          "base_uri": "https://localhost:8080/"
        },
        "id": "ddjD6JDOz0CO",
        "outputId": "de8543b7-c1de-4729-e77f-32b88e2333ca"
      },
      "source": [
        "reg.fit(OH_X_train, y_train)"
      ],
      "execution_count": 21,
      "outputs": [
        {
          "output_type": "execute_result",
          "data": {
            "text/plain": [
              "LinearRegression(copy_X=True, fit_intercept=True, n_jobs=None, normalize=False)"
            ]
          },
          "metadata": {},
          "execution_count": 21
        }
      ]
    },
    {
      "cell_type": "code",
      "metadata": {
        "colab": {
          "base_uri": "https://localhost:8080/"
        },
        "id": "bx19LIQg1H1P",
        "outputId": "35704d8d-7de8-4dc0-a32c-530c1f639098"
      },
      "source": [
        "r2 = reg.score(OH_X_valid, y_valid)\n",
        "r2"
      ],
      "execution_count": 22,
      "outputs": [
        {
          "output_type": "execute_result",
          "data": {
            "text/plain": [
              "0.5383751781320009"
            ]
          },
          "metadata": {},
          "execution_count": 22
        }
      ]
    },
    {
      "cell_type": "code",
      "metadata": {
        "colab": {
          "base_uri": "https://localhost:8080/"
        },
        "id": "NhQxuLTC143x",
        "outputId": "12490254-1e2f-4a80-91e1-0e884403ac41"
      },
      "source": [
        "OH_X_valid.shape"
      ],
      "execution_count": 23,
      "outputs": [
        {
          "output_type": "execute_result",
          "data": {
            "text/plain": [
              "(836, 10)"
            ]
          },
          "metadata": {},
          "execution_count": 23
        }
      ]
    },
    {
      "cell_type": "code",
      "metadata": {
        "colab": {
          "base_uri": "https://localhost:8080/"
        },
        "id": "FCGzYwXf2Zzx",
        "outputId": "26bd376a-9aed-4c38-c735-ee5623f376be"
      },
      "source": [
        "# adjusted r2\n",
        "n = OH_X_valid.shape[0]\n",
        "p = OH_X_valid.shape[1]\n",
        "adjusted_r2(r2, n, p)"
      ],
      "execution_count": 24,
      "outputs": [
        {
          "output_type": "execute_result",
          "data": {
            "text/plain": [
              "0.5327797257457221"
            ]
          },
          "metadata": {},
          "execution_count": 24
        }
      ]
    },
    {
      "cell_type": "code",
      "metadata": {
        "id": "5S7bbBZt2epH"
      },
      "source": [
        "# Fungsi untuk melihat skor RMSE\n",
        "\n",
        "from sklearn.metrics import mean_squared_error\n",
        "from sklearn.ensemble import RandomForestRegressor\n",
        "from xgboost import XGBRegressor\n",
        "\n",
        "def ols_score(X_train, X_valid, y_train, y_valid):\n",
        "  model = LinearRegression()\n",
        "  model.fit(X_train, y_train)\n",
        "  preds = model.predict(X_valid)\n",
        "  return mean_squared_error(y_valid, preds)\n",
        "\n",
        "def rf_score(X_train, X_valid, y_train, y_valid):\n",
        "  model = RandomForestRegressor(n_estimators=50, random_state=1)\n",
        "  model.fit(X_train, y_train)\n",
        "  preds = model.predict(X_valid)\n",
        "  return mean_squared_error(y_valid, preds)\n",
        "\n",
        "def xgb_score(X_train, X_valid, y_train, y_valid):\n",
        "  model = XGBRegressor()\n",
        "  model.fit(X_train, y_train)\n",
        "  preds = model.predict(X_valid)\n",
        "  return mean_squared_error(y_valid, preds)"
      ],
      "execution_count": 25,
      "outputs": []
    },
    {
      "cell_type": "code",
      "metadata": {
        "colab": {
          "base_uri": "https://localhost:8080/"
        },
        "id": "Cm6gosgZ3PNr",
        "outputId": "9210d7d1-91f6-4f97-b99f-1614a85e7ac1"
      },
      "source": [
        "ols_score(OH_X_train, OH_X_valid, y_train, y_valid)"
      ],
      "execution_count": 26,
      "outputs": [
        {
          "output_type": "execute_result",
          "data": {
            "text/plain": [
              "5.013389185855263"
            ]
          },
          "metadata": {},
          "execution_count": 26
        }
      ]
    },
    {
      "cell_type": "code",
      "metadata": {
        "colab": {
          "base_uri": "https://localhost:8080/"
        },
        "id": "d1YGIggd4WZG",
        "outputId": "f619c4ae-4863-4063-aaf8-ae75510ce264"
      },
      "source": [
        "rf_score(OH_X_train, OH_X_valid, y_train, y_valid)"
      ],
      "execution_count": 27,
      "outputs": [
        {
          "output_type": "execute_result",
          "data": {
            "text/plain": [
              "4.804708612440192"
            ]
          },
          "metadata": {},
          "execution_count": 27
        }
      ]
    },
    {
      "cell_type": "code",
      "metadata": {
        "colab": {
          "base_uri": "https://localhost:8080/"
        },
        "id": "Cs_xdEWC5lU_",
        "outputId": "fc435caf-2b30-4838-e044-ecc027980888"
      },
      "source": [
        "xgb_score(OH_X_train, OH_X_valid, y_train, y_valid)"
      ],
      "execution_count": 28,
      "outputs": [
        {
          "output_type": "stream",
          "text": [
            "[16:48:19] WARNING: /workspace/src/objective/regression_obj.cu:152: reg:linear is now deprecated in favor of reg:squarederror.\n"
          ],
          "name": "stdout"
        },
        {
          "output_type": "execute_result",
          "data": {
            "text/plain": [
              "4.78463528391867"
            ]
          },
          "metadata": {},
          "execution_count": 28
        }
      ]
    },
    {
      "cell_type": "code",
      "metadata": {
        "colab": {
          "base_uri": "https://localhost:8080/"
        },
        "id": "PGB7R20a6Pkh",
        "outputId": "d8ea9cf4-2078-4b2e-8d72-c49783eb37e8"
      },
      "source": [
        "import tensorflow as tf\n",
        "\n",
        "\n",
        "model = tf.keras.models.Sequential([\n",
        "        tf.keras.layers.Dense(128, activation='relu'),\n",
        "        tf.keras.layers.Dense(64, activation='relu'),\n",
        "        tf.keras.layers.Dense(1)\n",
        "    ])\n",
        "\n",
        "model.compile(loss=\"mean_squared_error\", optimizer=\"adam\", metrics=[\"mse\"])\n",
        "model.fit(OH_X_train, y_train, epochs=500)\n"
      ],
      "execution_count": 31,
      "outputs": [
        {
          "output_type": "stream",
          "text": [
            "Epoch 1/500\n",
            "105/105 [==============================] - 1s 3ms/step - loss: 41.4410 - mse: 41.4410\n",
            "Epoch 2/500\n",
            "105/105 [==============================] - 0s 3ms/step - loss: 6.9290 - mse: 6.9290\n",
            "Epoch 3/500\n",
            "105/105 [==============================] - 0s 3ms/step - loss: 6.4319 - mse: 6.4319\n",
            "Epoch 4/500\n",
            "105/105 [==============================] - 0s 3ms/step - loss: 6.1446 - mse: 6.1446\n",
            "Epoch 5/500\n",
            "105/105 [==============================] - 0s 3ms/step - loss: 5.9807 - mse: 5.9807\n",
            "Epoch 6/500\n",
            "105/105 [==============================] - 0s 3ms/step - loss: 5.6584 - mse: 5.6584\n",
            "Epoch 7/500\n",
            "105/105 [==============================] - 0s 3ms/step - loss: 5.4003 - mse: 5.4003\n",
            "Epoch 8/500\n",
            "105/105 [==============================] - 0s 3ms/step - loss: 5.2350 - mse: 5.2350\n",
            "Epoch 9/500\n",
            "105/105 [==============================] - 0s 3ms/step - loss: 5.0713 - mse: 5.0713\n",
            "Epoch 10/500\n",
            "105/105 [==============================] - 0s 3ms/step - loss: 4.9388 - mse: 4.9388\n",
            "Epoch 11/500\n",
            "105/105 [==============================] - 0s 3ms/step - loss: 4.8430 - mse: 4.8430\n",
            "Epoch 12/500\n",
            "105/105 [==============================] - 0s 3ms/step - loss: 4.7958 - mse: 4.7958\n",
            "Epoch 13/500\n",
            "105/105 [==============================] - 0s 3ms/step - loss: 4.7745 - mse: 4.7745\n",
            "Epoch 14/500\n",
            "105/105 [==============================] - 0s 3ms/step - loss: 4.7437 - mse: 4.7437\n",
            "Epoch 15/500\n",
            "105/105 [==============================] - 0s 3ms/step - loss: 4.7075 - mse: 4.7075\n",
            "Epoch 16/500\n",
            "105/105 [==============================] - 0s 3ms/step - loss: 4.6295 - mse: 4.6295\n",
            "Epoch 17/500\n",
            "105/105 [==============================] - 0s 3ms/step - loss: 4.6642 - mse: 4.6642\n",
            "Epoch 18/500\n",
            "105/105 [==============================] - 0s 3ms/step - loss: 4.6497 - mse: 4.6497\n",
            "Epoch 19/500\n",
            "105/105 [==============================] - 0s 3ms/step - loss: 4.7302 - mse: 4.7302\n",
            "Epoch 20/500\n",
            "105/105 [==============================] - 0s 3ms/step - loss: 4.6154 - mse: 4.6154\n",
            "Epoch 21/500\n",
            "105/105 [==============================] - 0s 3ms/step - loss: 4.5978 - mse: 4.5978\n",
            "Epoch 22/500\n",
            "105/105 [==============================] - 0s 3ms/step - loss: 4.5694 - mse: 4.5694\n",
            "Epoch 23/500\n",
            "105/105 [==============================] - 0s 3ms/step - loss: 4.5309 - mse: 4.5309\n",
            "Epoch 24/500\n",
            "105/105 [==============================] - 0s 3ms/step - loss: 4.6152 - mse: 4.6152\n",
            "Epoch 25/500\n",
            "105/105 [==============================] - 0s 3ms/step - loss: 4.5297 - mse: 4.5297\n",
            "Epoch 26/500\n",
            "105/105 [==============================] - 0s 3ms/step - loss: 4.5308 - mse: 4.5308\n",
            "Epoch 27/500\n",
            "105/105 [==============================] - 0s 3ms/step - loss: 4.5258 - mse: 4.5258\n",
            "Epoch 28/500\n",
            "105/105 [==============================] - 0s 3ms/step - loss: 4.5216 - mse: 4.5216\n",
            "Epoch 29/500\n",
            "105/105 [==============================] - 0s 3ms/step - loss: 4.4852 - mse: 4.4852\n",
            "Epoch 30/500\n",
            "105/105 [==============================] - 0s 3ms/step - loss: 4.5888 - mse: 4.5888\n",
            "Epoch 31/500\n",
            "105/105 [==============================] - 0s 3ms/step - loss: 4.5950 - mse: 4.5950\n",
            "Epoch 32/500\n",
            "105/105 [==============================] - 0s 3ms/step - loss: 4.5340 - mse: 4.5340\n",
            "Epoch 33/500\n",
            "105/105 [==============================] - 0s 3ms/step - loss: 4.5215 - mse: 4.5215\n",
            "Epoch 34/500\n",
            "105/105 [==============================] - 0s 3ms/step - loss: 4.4594 - mse: 4.4594\n",
            "Epoch 35/500\n",
            "105/105 [==============================] - 0s 3ms/step - loss: 4.4336 - mse: 4.4336\n",
            "Epoch 36/500\n",
            "105/105 [==============================] - 0s 3ms/step - loss: 4.4893 - mse: 4.4893\n",
            "Epoch 37/500\n",
            "105/105 [==============================] - 0s 3ms/step - loss: 4.4550 - mse: 4.4550\n",
            "Epoch 38/500\n",
            "105/105 [==============================] - 0s 3ms/step - loss: 4.4577 - mse: 4.4577\n",
            "Epoch 39/500\n",
            "105/105 [==============================] - 0s 3ms/step - loss: 4.4514 - mse: 4.4514\n",
            "Epoch 40/500\n",
            "105/105 [==============================] - 0s 3ms/step - loss: 4.4303 - mse: 4.4303\n",
            "Epoch 41/500\n",
            "105/105 [==============================] - 0s 3ms/step - loss: 4.4771 - mse: 4.4771\n",
            "Epoch 42/500\n",
            "105/105 [==============================] - 0s 3ms/step - loss: 4.5183 - mse: 4.5183\n",
            "Epoch 43/500\n",
            "105/105 [==============================] - 0s 3ms/step - loss: 4.4252 - mse: 4.4252\n",
            "Epoch 44/500\n",
            "105/105 [==============================] - 0s 3ms/step - loss: 4.4581 - mse: 4.4581\n",
            "Epoch 45/500\n",
            "105/105 [==============================] - 0s 3ms/step - loss: 4.4534 - mse: 4.4534\n",
            "Epoch 46/500\n",
            "105/105 [==============================] - 0s 3ms/step - loss: 4.4743 - mse: 4.4743\n",
            "Epoch 47/500\n",
            "105/105 [==============================] - 0s 3ms/step - loss: 4.4175 - mse: 4.4175\n",
            "Epoch 48/500\n",
            "105/105 [==============================] - 0s 3ms/step - loss: 4.4213 - mse: 4.4213\n",
            "Epoch 49/500\n",
            "105/105 [==============================] - 0s 3ms/step - loss: 4.4114 - mse: 4.4114\n",
            "Epoch 50/500\n",
            "105/105 [==============================] - 0s 3ms/step - loss: 4.4150 - mse: 4.4150\n",
            "Epoch 51/500\n",
            "105/105 [==============================] - 0s 3ms/step - loss: 4.4519 - mse: 4.4519\n",
            "Epoch 52/500\n",
            "105/105 [==============================] - 0s 3ms/step - loss: 4.4090 - mse: 4.4090\n",
            "Epoch 53/500\n",
            "105/105 [==============================] - 0s 3ms/step - loss: 4.3842 - mse: 4.3842\n",
            "Epoch 54/500\n",
            "105/105 [==============================] - 0s 3ms/step - loss: 4.3879 - mse: 4.3879\n",
            "Epoch 55/500\n",
            "105/105 [==============================] - 0s 3ms/step - loss: 4.3557 - mse: 4.3557\n",
            "Epoch 56/500\n",
            "105/105 [==============================] - 0s 3ms/step - loss: 4.4022 - mse: 4.4022\n",
            "Epoch 57/500\n",
            "105/105 [==============================] - 0s 3ms/step - loss: 4.4633 - mse: 4.4633\n",
            "Epoch 58/500\n",
            "105/105 [==============================] - 0s 3ms/step - loss: 4.3594 - mse: 4.3594\n",
            "Epoch 59/500\n",
            "105/105 [==============================] - 0s 3ms/step - loss: 4.3806 - mse: 4.3806\n",
            "Epoch 60/500\n",
            "105/105 [==============================] - 0s 3ms/step - loss: 4.3826 - mse: 4.3826\n",
            "Epoch 61/500\n",
            "105/105 [==============================] - 0s 3ms/step - loss: 4.4091 - mse: 4.4091\n",
            "Epoch 62/500\n",
            "105/105 [==============================] - 0s 3ms/step - loss: 4.3734 - mse: 4.3734\n",
            "Epoch 63/500\n",
            "105/105 [==============================] - 0s 3ms/step - loss: 4.3850 - mse: 4.3850\n",
            "Epoch 64/500\n",
            "105/105 [==============================] - 0s 3ms/step - loss: 4.3699 - mse: 4.3699\n",
            "Epoch 65/500\n",
            "105/105 [==============================] - 0s 3ms/step - loss: 4.3461 - mse: 4.3461\n",
            "Epoch 66/500\n",
            "105/105 [==============================] - 0s 3ms/step - loss: 4.3422 - mse: 4.3422\n",
            "Epoch 67/500\n",
            "105/105 [==============================] - 0s 3ms/step - loss: 4.3954 - mse: 4.3954\n",
            "Epoch 68/500\n",
            "105/105 [==============================] - 0s 3ms/step - loss: 4.3413 - mse: 4.3413\n",
            "Epoch 69/500\n",
            "105/105 [==============================] - 0s 3ms/step - loss: 4.3817 - mse: 4.3817\n",
            "Epoch 70/500\n",
            "105/105 [==============================] - 0s 3ms/step - loss: 4.3283 - mse: 4.3283\n",
            "Epoch 71/500\n",
            "105/105 [==============================] - 0s 3ms/step - loss: 4.3772 - mse: 4.3772\n",
            "Epoch 72/500\n",
            "105/105 [==============================] - 0s 3ms/step - loss: 4.3270 - mse: 4.3270\n",
            "Epoch 73/500\n",
            "105/105 [==============================] - 0s 3ms/step - loss: 4.4255 - mse: 4.4255\n",
            "Epoch 74/500\n",
            "105/105 [==============================] - 0s 3ms/step - loss: 4.3614 - mse: 4.3614\n",
            "Epoch 75/500\n",
            "105/105 [==============================] - 0s 3ms/step - loss: 4.3833 - mse: 4.3833\n",
            "Epoch 76/500\n",
            "105/105 [==============================] - 0s 3ms/step - loss: 4.3725 - mse: 4.3725\n",
            "Epoch 77/500\n",
            "105/105 [==============================] - 0s 3ms/step - loss: 4.3590 - mse: 4.3590\n",
            "Epoch 78/500\n",
            "105/105 [==============================] - 0s 3ms/step - loss: 4.3909 - mse: 4.3909\n",
            "Epoch 79/500\n",
            "105/105 [==============================] - 0s 3ms/step - loss: 4.4654 - mse: 4.4654\n",
            "Epoch 80/500\n",
            "105/105 [==============================] - 0s 3ms/step - loss: 4.3391 - mse: 4.3391\n",
            "Epoch 81/500\n",
            "105/105 [==============================] - 0s 3ms/step - loss: 4.3243 - mse: 4.3243\n",
            "Epoch 82/500\n",
            "105/105 [==============================] - 0s 3ms/step - loss: 4.3114 - mse: 4.3114\n",
            "Epoch 83/500\n",
            "105/105 [==============================] - 0s 3ms/step - loss: 4.3293 - mse: 4.3293\n",
            "Epoch 84/500\n",
            "105/105 [==============================] - 0s 3ms/step - loss: 4.3783 - mse: 4.3783\n",
            "Epoch 85/500\n",
            "105/105 [==============================] - 0s 3ms/step - loss: 4.4318 - mse: 4.4318\n",
            "Epoch 86/500\n",
            "105/105 [==============================] - 0s 3ms/step - loss: 4.2730 - mse: 4.2730\n",
            "Epoch 87/500\n",
            "105/105 [==============================] - 0s 3ms/step - loss: 4.3109 - mse: 4.3109\n",
            "Epoch 88/500\n",
            "105/105 [==============================] - 0s 3ms/step - loss: 4.3159 - mse: 4.3159\n",
            "Epoch 89/500\n",
            "105/105 [==============================] - 0s 3ms/step - loss: 4.3161 - mse: 4.3161\n",
            "Epoch 90/500\n",
            "105/105 [==============================] - 0s 3ms/step - loss: 4.3599 - mse: 4.3599\n",
            "Epoch 91/500\n",
            "105/105 [==============================] - 0s 3ms/step - loss: 4.4025 - mse: 4.4025\n",
            "Epoch 92/500\n",
            "105/105 [==============================] - 0s 3ms/step - loss: 4.3451 - mse: 4.3451\n",
            "Epoch 93/500\n",
            "105/105 [==============================] - 0s 3ms/step - loss: 4.3542 - mse: 4.3542\n",
            "Epoch 94/500\n",
            "105/105 [==============================] - 0s 3ms/step - loss: 4.3614 - mse: 4.3614\n",
            "Epoch 95/500\n",
            "105/105 [==============================] - 0s 3ms/step - loss: 4.3697 - mse: 4.3697\n",
            "Epoch 96/500\n",
            "105/105 [==============================] - 0s 3ms/step - loss: 4.3271 - mse: 4.3271\n",
            "Epoch 97/500\n",
            "105/105 [==============================] - 0s 3ms/step - loss: 4.3387 - mse: 4.3387\n",
            "Epoch 98/500\n",
            "105/105 [==============================] - 0s 3ms/step - loss: 4.3149 - mse: 4.3149\n",
            "Epoch 99/500\n",
            "105/105 [==============================] - 0s 3ms/step - loss: 4.3694 - mse: 4.3694\n",
            "Epoch 100/500\n",
            "105/105 [==============================] - 0s 3ms/step - loss: 4.2822 - mse: 4.2822\n",
            "Epoch 101/500\n",
            "105/105 [==============================] - 0s 3ms/step - loss: 4.3026 - mse: 4.3026\n",
            "Epoch 102/500\n",
            "105/105 [==============================] - 0s 3ms/step - loss: 4.2804 - mse: 4.2804\n",
            "Epoch 103/500\n",
            "105/105 [==============================] - 0s 3ms/step - loss: 4.3299 - mse: 4.3299\n",
            "Epoch 104/500\n",
            "105/105 [==============================] - 0s 3ms/step - loss: 4.3002 - mse: 4.3002\n",
            "Epoch 105/500\n",
            "105/105 [==============================] - 0s 3ms/step - loss: 4.3517 - mse: 4.3517\n",
            "Epoch 106/500\n",
            "105/105 [==============================] - 0s 3ms/step - loss: 4.3942 - mse: 4.3942\n",
            "Epoch 107/500\n",
            "105/105 [==============================] - 0s 3ms/step - loss: 4.3184 - mse: 4.3184\n",
            "Epoch 108/500\n",
            "105/105 [==============================] - 0s 3ms/step - loss: 4.2712 - mse: 4.2712\n",
            "Epoch 109/500\n",
            "105/105 [==============================] - 0s 3ms/step - loss: 4.2882 - mse: 4.2882\n",
            "Epoch 110/500\n",
            "105/105 [==============================] - 0s 3ms/step - loss: 4.2774 - mse: 4.2774\n",
            "Epoch 111/500\n",
            "105/105 [==============================] - 0s 3ms/step - loss: 4.3204 - mse: 4.3204\n",
            "Epoch 112/500\n",
            "105/105 [==============================] - 0s 3ms/step - loss: 4.2610 - mse: 4.2610\n",
            "Epoch 113/500\n",
            "105/105 [==============================] - 0s 3ms/step - loss: 4.2527 - mse: 4.2527\n",
            "Epoch 114/500\n",
            "105/105 [==============================] - 0s 3ms/step - loss: 4.3089 - mse: 4.3089\n",
            "Epoch 115/500\n",
            "105/105 [==============================] - 0s 3ms/step - loss: 4.2802 - mse: 4.2802\n",
            "Epoch 116/500\n",
            "105/105 [==============================] - 0s 3ms/step - loss: 4.2834 - mse: 4.2834\n",
            "Epoch 117/500\n",
            "105/105 [==============================] - 0s 3ms/step - loss: 4.3176 - mse: 4.3176\n",
            "Epoch 118/500\n",
            "105/105 [==============================] - 0s 3ms/step - loss: 4.2755 - mse: 4.2755\n",
            "Epoch 119/500\n",
            "105/105 [==============================] - 0s 3ms/step - loss: 4.2566 - mse: 4.2566\n",
            "Epoch 120/500\n",
            "105/105 [==============================] - 0s 3ms/step - loss: 4.3008 - mse: 4.3008\n",
            "Epoch 121/500\n",
            "105/105 [==============================] - 0s 3ms/step - loss: 4.3348 - mse: 4.3348\n",
            "Epoch 122/500\n",
            "105/105 [==============================] - 0s 3ms/step - loss: 4.3353 - mse: 4.3353\n",
            "Epoch 123/500\n",
            "105/105 [==============================] - 0s 3ms/step - loss: 4.3693 - mse: 4.3693\n",
            "Epoch 124/500\n",
            "105/105 [==============================] - 0s 3ms/step - loss: 4.2809 - mse: 4.2809\n",
            "Epoch 125/500\n",
            "105/105 [==============================] - 0s 3ms/step - loss: 4.2666 - mse: 4.2666\n",
            "Epoch 126/500\n",
            "105/105 [==============================] - 0s 3ms/step - loss: 4.2539 - mse: 4.2539\n",
            "Epoch 127/500\n",
            "105/105 [==============================] - 0s 3ms/step - loss: 4.2354 - mse: 4.2354\n",
            "Epoch 128/500\n",
            "105/105 [==============================] - 0s 3ms/step - loss: 4.2340 - mse: 4.2340\n",
            "Epoch 129/500\n",
            "105/105 [==============================] - 0s 3ms/step - loss: 4.2578 - mse: 4.2578\n",
            "Epoch 130/500\n",
            "105/105 [==============================] - 0s 3ms/step - loss: 4.2965 - mse: 4.2965\n",
            "Epoch 131/500\n",
            "105/105 [==============================] - 0s 3ms/step - loss: 4.2823 - mse: 4.2823\n",
            "Epoch 132/500\n",
            "105/105 [==============================] - 0s 3ms/step - loss: 4.2264 - mse: 4.2264\n",
            "Epoch 133/500\n",
            "105/105 [==============================] - 0s 3ms/step - loss: 4.2752 - mse: 4.2752\n",
            "Epoch 134/500\n",
            "105/105 [==============================] - 0s 3ms/step - loss: 4.2766 - mse: 4.2766\n",
            "Epoch 135/500\n",
            "105/105 [==============================] - 0s 3ms/step - loss: 4.2557 - mse: 4.2557\n",
            "Epoch 136/500\n",
            "105/105 [==============================] - 0s 3ms/step - loss: 4.2473 - mse: 4.2473\n",
            "Epoch 137/500\n",
            "105/105 [==============================] - 0s 3ms/step - loss: 4.2386 - mse: 4.2386\n",
            "Epoch 138/500\n",
            "105/105 [==============================] - 0s 3ms/step - loss: 4.2707 - mse: 4.2707\n",
            "Epoch 139/500\n",
            "105/105 [==============================] - 0s 3ms/step - loss: 4.2769 - mse: 4.2769\n",
            "Epoch 140/500\n",
            "105/105 [==============================] - 0s 3ms/step - loss: 4.2047 - mse: 4.2047\n",
            "Epoch 141/500\n",
            "105/105 [==============================] - 0s 3ms/step - loss: 4.2734 - mse: 4.2734\n",
            "Epoch 142/500\n",
            "105/105 [==============================] - 0s 3ms/step - loss: 4.3487 - mse: 4.3487\n",
            "Epoch 143/500\n",
            "105/105 [==============================] - 0s 3ms/step - loss: 4.2292 - mse: 4.2292\n",
            "Epoch 144/500\n",
            "105/105 [==============================] - 0s 3ms/step - loss: 4.2955 - mse: 4.2955\n",
            "Epoch 145/500\n",
            "105/105 [==============================] - 0s 3ms/step - loss: 4.2736 - mse: 4.2736\n",
            "Epoch 146/500\n",
            "105/105 [==============================] - 0s 3ms/step - loss: 4.2394 - mse: 4.2394\n",
            "Epoch 147/500\n",
            "105/105 [==============================] - 0s 3ms/step - loss: 4.2378 - mse: 4.2378\n",
            "Epoch 148/500\n",
            "105/105 [==============================] - 0s 3ms/step - loss: 4.2677 - mse: 4.2677\n",
            "Epoch 149/500\n",
            "105/105 [==============================] - 0s 3ms/step - loss: 4.2571 - mse: 4.2571\n",
            "Epoch 150/500\n",
            "105/105 [==============================] - 0s 3ms/step - loss: 4.2277 - mse: 4.2277\n",
            "Epoch 151/500\n",
            "105/105 [==============================] - 0s 3ms/step - loss: 4.2973 - mse: 4.2973\n",
            "Epoch 152/500\n",
            "105/105 [==============================] - 0s 3ms/step - loss: 4.2602 - mse: 4.2602\n",
            "Epoch 153/500\n",
            "105/105 [==============================] - 0s 3ms/step - loss: 4.2269 - mse: 4.2269\n",
            "Epoch 154/500\n",
            "105/105 [==============================] - 0s 3ms/step - loss: 4.2618 - mse: 4.2618\n",
            "Epoch 155/500\n",
            "105/105 [==============================] - 0s 3ms/step - loss: 4.2664 - mse: 4.2664\n",
            "Epoch 156/500\n",
            "105/105 [==============================] - 0s 3ms/step - loss: 4.2408 - mse: 4.2408\n",
            "Epoch 157/500\n",
            "105/105 [==============================] - 0s 3ms/step - loss: 4.2006 - mse: 4.2006\n",
            "Epoch 158/500\n",
            "105/105 [==============================] - 0s 3ms/step - loss: 4.2276 - mse: 4.2276\n",
            "Epoch 159/500\n",
            "105/105 [==============================] - 0s 3ms/step - loss: 4.2626 - mse: 4.2626\n",
            "Epoch 160/500\n",
            "105/105 [==============================] - 0s 3ms/step - loss: 4.2673 - mse: 4.2673\n",
            "Epoch 161/500\n",
            "105/105 [==============================] - 0s 3ms/step - loss: 4.1924 - mse: 4.1924\n",
            "Epoch 162/500\n",
            "105/105 [==============================] - 0s 3ms/step - loss: 4.2495 - mse: 4.2495\n",
            "Epoch 163/500\n",
            "105/105 [==============================] - 0s 3ms/step - loss: 4.2463 - mse: 4.2463\n",
            "Epoch 164/500\n",
            "105/105 [==============================] - 0s 3ms/step - loss: 4.2423 - mse: 4.2423\n",
            "Epoch 165/500\n",
            "105/105 [==============================] - 0s 3ms/step - loss: 4.2522 - mse: 4.2522\n",
            "Epoch 166/500\n",
            "105/105 [==============================] - 0s 3ms/step - loss: 4.2434 - mse: 4.2434\n",
            "Epoch 167/500\n",
            "105/105 [==============================] - 0s 3ms/step - loss: 4.3204 - mse: 4.3204\n",
            "Epoch 168/500\n",
            "105/105 [==============================] - 0s 3ms/step - loss: 4.2407 - mse: 4.2407\n",
            "Epoch 169/500\n",
            "105/105 [==============================] - 0s 3ms/step - loss: 4.1769 - mse: 4.1769\n",
            "Epoch 170/500\n",
            "105/105 [==============================] - 0s 3ms/step - loss: 4.2308 - mse: 4.2308\n",
            "Epoch 171/500\n",
            "105/105 [==============================] - 0s 3ms/step - loss: 4.2102 - mse: 4.2102\n",
            "Epoch 172/500\n",
            "105/105 [==============================] - 0s 3ms/step - loss: 4.2037 - mse: 4.2037\n",
            "Epoch 173/500\n",
            "105/105 [==============================] - 0s 3ms/step - loss: 4.2837 - mse: 4.2837\n",
            "Epoch 174/500\n",
            "105/105 [==============================] - 0s 3ms/step - loss: 4.2478 - mse: 4.2478\n",
            "Epoch 175/500\n",
            "105/105 [==============================] - 0s 3ms/step - loss: 4.1864 - mse: 4.1864\n",
            "Epoch 176/500\n",
            "105/105 [==============================] - 0s 3ms/step - loss: 4.2493 - mse: 4.2493\n",
            "Epoch 177/500\n",
            "105/105 [==============================] - 0s 3ms/step - loss: 4.2616 - mse: 4.2616\n",
            "Epoch 178/500\n",
            "105/105 [==============================] - 0s 3ms/step - loss: 4.2319 - mse: 4.2319\n",
            "Epoch 179/500\n",
            "105/105 [==============================] - 0s 3ms/step - loss: 4.2049 - mse: 4.2049\n",
            "Epoch 180/500\n",
            "105/105 [==============================] - 0s 3ms/step - loss: 4.1963 - mse: 4.1963\n",
            "Epoch 181/500\n",
            "105/105 [==============================] - 0s 3ms/step - loss: 4.2259 - mse: 4.2259\n",
            "Epoch 182/500\n",
            "105/105 [==============================] - 0s 3ms/step - loss: 4.3111 - mse: 4.3111\n",
            "Epoch 183/500\n",
            "105/105 [==============================] - 0s 3ms/step - loss: 4.2327 - mse: 4.2327\n",
            "Epoch 184/500\n",
            "105/105 [==============================] - 0s 3ms/step - loss: 4.2281 - mse: 4.2281\n",
            "Epoch 185/500\n",
            "105/105 [==============================] - 0s 3ms/step - loss: 4.2668 - mse: 4.2668\n",
            "Epoch 186/500\n",
            "105/105 [==============================] - 0s 3ms/step - loss: 4.2317 - mse: 4.2317\n",
            "Epoch 187/500\n",
            "105/105 [==============================] - 0s 3ms/step - loss: 4.2232 - mse: 4.2232\n",
            "Epoch 188/500\n",
            "105/105 [==============================] - 0s 3ms/step - loss: 4.3186 - mse: 4.3186\n",
            "Epoch 189/500\n",
            "105/105 [==============================] - 0s 3ms/step - loss: 4.1784 - mse: 4.1784\n",
            "Epoch 190/500\n",
            "105/105 [==============================] - 0s 3ms/step - loss: 4.2735 - mse: 4.2735\n",
            "Epoch 191/500\n",
            "105/105 [==============================] - 0s 3ms/step - loss: 4.2387 - mse: 4.2387\n",
            "Epoch 192/500\n",
            "105/105 [==============================] - 0s 3ms/step - loss: 4.2221 - mse: 4.2221\n",
            "Epoch 193/500\n",
            "105/105 [==============================] - 0s 3ms/step - loss: 4.2407 - mse: 4.2407\n",
            "Epoch 194/500\n",
            "105/105 [==============================] - 0s 3ms/step - loss: 4.1963 - mse: 4.1963\n",
            "Epoch 195/500\n",
            "105/105 [==============================] - 0s 3ms/step - loss: 4.1726 - mse: 4.1726\n",
            "Epoch 196/500\n",
            "105/105 [==============================] - 0s 3ms/step - loss: 4.1571 - mse: 4.1571\n",
            "Epoch 197/500\n",
            "105/105 [==============================] - 0s 3ms/step - loss: 4.1948 - mse: 4.1948\n",
            "Epoch 198/500\n",
            "105/105 [==============================] - 0s 3ms/step - loss: 4.2114 - mse: 4.2114\n",
            "Epoch 199/500\n",
            "105/105 [==============================] - 0s 3ms/step - loss: 4.2523 - mse: 4.2523\n",
            "Epoch 200/500\n",
            "105/105 [==============================] - 0s 3ms/step - loss: 4.2569 - mse: 4.2569\n",
            "Epoch 201/500\n",
            "105/105 [==============================] - 0s 3ms/step - loss: 4.2195 - mse: 4.2195\n",
            "Epoch 202/500\n",
            "105/105 [==============================] - 0s 3ms/step - loss: 4.1656 - mse: 4.1656\n",
            "Epoch 203/500\n",
            "105/105 [==============================] - 0s 3ms/step - loss: 4.1755 - mse: 4.1755\n",
            "Epoch 204/500\n",
            "105/105 [==============================] - 0s 3ms/step - loss: 4.2018 - mse: 4.2018\n",
            "Epoch 205/500\n",
            "105/105 [==============================] - 0s 3ms/step - loss: 4.1832 - mse: 4.1832\n",
            "Epoch 206/500\n",
            "105/105 [==============================] - 0s 3ms/step - loss: 4.2629 - mse: 4.2629\n",
            "Epoch 207/500\n",
            "105/105 [==============================] - 0s 3ms/step - loss: 4.2418 - mse: 4.2418\n",
            "Epoch 208/500\n",
            "105/105 [==============================] - 0s 3ms/step - loss: 4.2024 - mse: 4.2024\n",
            "Epoch 209/500\n",
            "105/105 [==============================] - 0s 3ms/step - loss: 4.1802 - mse: 4.1802\n",
            "Epoch 210/500\n",
            "105/105 [==============================] - 0s 3ms/step - loss: 4.1899 - mse: 4.1899\n",
            "Epoch 211/500\n",
            "105/105 [==============================] - 0s 3ms/step - loss: 4.2131 - mse: 4.2131\n",
            "Epoch 212/500\n",
            "105/105 [==============================] - 0s 3ms/step - loss: 4.1593 - mse: 4.1593\n",
            "Epoch 213/500\n",
            "105/105 [==============================] - 0s 3ms/step - loss: 4.2221 - mse: 4.2221\n",
            "Epoch 214/500\n",
            "105/105 [==============================] - 0s 3ms/step - loss: 4.2186 - mse: 4.2186\n",
            "Epoch 215/500\n",
            "105/105 [==============================] - 0s 3ms/step - loss: 4.2209 - mse: 4.2209\n",
            "Epoch 216/500\n",
            "105/105 [==============================] - 0s 3ms/step - loss: 4.2272 - mse: 4.2272\n",
            "Epoch 217/500\n",
            "105/105 [==============================] - 0s 3ms/step - loss: 4.1801 - mse: 4.1801\n",
            "Epoch 218/500\n",
            "105/105 [==============================] - 0s 3ms/step - loss: 4.1868 - mse: 4.1868\n",
            "Epoch 219/500\n",
            "105/105 [==============================] - 0s 3ms/step - loss: 4.1870 - mse: 4.1870\n",
            "Epoch 220/500\n",
            "105/105 [==============================] - 0s 3ms/step - loss: 4.2173 - mse: 4.2173\n",
            "Epoch 221/500\n",
            "105/105 [==============================] - 0s 3ms/step - loss: 4.1631 - mse: 4.1631\n",
            "Epoch 222/500\n",
            "105/105 [==============================] - 0s 3ms/step - loss: 4.1696 - mse: 4.1696\n",
            "Epoch 223/500\n",
            "105/105 [==============================] - 0s 3ms/step - loss: 4.2474 - mse: 4.2474\n",
            "Epoch 224/500\n",
            "105/105 [==============================] - 0s 3ms/step - loss: 4.2052 - mse: 4.2052\n",
            "Epoch 225/500\n",
            "105/105 [==============================] - 0s 3ms/step - loss: 4.2891 - mse: 4.2891\n",
            "Epoch 226/500\n",
            "105/105 [==============================] - 0s 3ms/step - loss: 4.2095 - mse: 4.2095\n",
            "Epoch 227/500\n",
            "105/105 [==============================] - 0s 3ms/step - loss: 4.1707 - mse: 4.1707\n",
            "Epoch 228/500\n",
            "105/105 [==============================] - 0s 3ms/step - loss: 4.2665 - mse: 4.2665\n",
            "Epoch 229/500\n",
            "105/105 [==============================] - 0s 3ms/step - loss: 4.2413 - mse: 4.2413\n",
            "Epoch 230/500\n",
            "105/105 [==============================] - 0s 3ms/step - loss: 4.1613 - mse: 4.1613\n",
            "Epoch 231/500\n",
            "105/105 [==============================] - 0s 3ms/step - loss: 4.1468 - mse: 4.1468\n",
            "Epoch 232/500\n",
            "105/105 [==============================] - 0s 3ms/step - loss: 4.2200 - mse: 4.2200\n",
            "Epoch 233/500\n",
            "105/105 [==============================] - 0s 3ms/step - loss: 4.1637 - mse: 4.1637\n",
            "Epoch 234/500\n",
            "105/105 [==============================] - 0s 3ms/step - loss: 4.2604 - mse: 4.2604\n",
            "Epoch 235/500\n",
            "105/105 [==============================] - 0s 3ms/step - loss: 4.1730 - mse: 4.1730\n",
            "Epoch 236/500\n",
            "105/105 [==============================] - 0s 3ms/step - loss: 4.2188 - mse: 4.2188\n",
            "Epoch 237/500\n",
            "105/105 [==============================] - 0s 3ms/step - loss: 4.1915 - mse: 4.1915\n",
            "Epoch 238/500\n",
            "105/105 [==============================] - 0s 3ms/step - loss: 4.2071 - mse: 4.2071\n",
            "Epoch 239/500\n",
            "105/105 [==============================] - 0s 3ms/step - loss: 4.1769 - mse: 4.1769\n",
            "Epoch 240/500\n",
            "105/105 [==============================] - 0s 3ms/step - loss: 4.1518 - mse: 4.1518\n",
            "Epoch 241/500\n",
            "105/105 [==============================] - 0s 3ms/step - loss: 4.1424 - mse: 4.1424\n",
            "Epoch 242/500\n",
            "105/105 [==============================] - 0s 3ms/step - loss: 4.2659 - mse: 4.2659\n",
            "Epoch 243/500\n",
            "105/105 [==============================] - 0s 3ms/step - loss: 4.1620 - mse: 4.1620\n",
            "Epoch 244/500\n",
            "105/105 [==============================] - 0s 3ms/step - loss: 4.1240 - mse: 4.1240\n",
            "Epoch 245/500\n",
            "105/105 [==============================] - 0s 3ms/step - loss: 4.2462 - mse: 4.2462\n",
            "Epoch 246/500\n",
            "105/105 [==============================] - 0s 3ms/step - loss: 4.1315 - mse: 4.1315\n",
            "Epoch 247/500\n",
            "105/105 [==============================] - 0s 3ms/step - loss: 4.1714 - mse: 4.1714\n",
            "Epoch 248/500\n",
            "105/105 [==============================] - 0s 3ms/step - loss: 4.1408 - mse: 4.1408\n",
            "Epoch 249/500\n",
            "105/105 [==============================] - 0s 3ms/step - loss: 4.1374 - mse: 4.1374\n",
            "Epoch 250/500\n",
            "105/105 [==============================] - 0s 3ms/step - loss: 4.1533 - mse: 4.1533\n",
            "Epoch 251/500\n",
            "105/105 [==============================] - 0s 3ms/step - loss: 4.1925 - mse: 4.1925\n",
            "Epoch 252/500\n",
            "105/105 [==============================] - 0s 3ms/step - loss: 4.1569 - mse: 4.1569\n",
            "Epoch 253/500\n",
            "105/105 [==============================] - 0s 3ms/step - loss: 4.1631 - mse: 4.1631\n",
            "Epoch 254/500\n",
            "105/105 [==============================] - 0s 3ms/step - loss: 4.1942 - mse: 4.1942\n",
            "Epoch 255/500\n",
            "105/105 [==============================] - 0s 3ms/step - loss: 4.1584 - mse: 4.1584\n",
            "Epoch 256/500\n",
            "105/105 [==============================] - 0s 3ms/step - loss: 4.1745 - mse: 4.1745\n",
            "Epoch 257/500\n",
            "105/105 [==============================] - 0s 3ms/step - loss: 4.1780 - mse: 4.1780\n",
            "Epoch 258/500\n",
            "105/105 [==============================] - 0s 3ms/step - loss: 4.1507 - mse: 4.1507\n",
            "Epoch 259/500\n",
            "105/105 [==============================] - 0s 3ms/step - loss: 4.1758 - mse: 4.1758\n",
            "Epoch 260/500\n",
            "105/105 [==============================] - 0s 3ms/step - loss: 4.1744 - mse: 4.1744\n",
            "Epoch 261/500\n",
            "105/105 [==============================] - 0s 3ms/step - loss: 4.2092 - mse: 4.2092\n",
            "Epoch 262/500\n",
            "105/105 [==============================] - 0s 3ms/step - loss: 4.1520 - mse: 4.1520\n",
            "Epoch 263/500\n",
            "105/105 [==============================] - 0s 3ms/step - loss: 4.1401 - mse: 4.1401\n",
            "Epoch 264/500\n",
            "105/105 [==============================] - 0s 3ms/step - loss: 4.1613 - mse: 4.1613\n",
            "Epoch 265/500\n",
            "105/105 [==============================] - 0s 3ms/step - loss: 4.2031 - mse: 4.2031\n",
            "Epoch 266/500\n",
            "105/105 [==============================] - 0s 3ms/step - loss: 4.1373 - mse: 4.1373\n",
            "Epoch 267/500\n",
            "105/105 [==============================] - 0s 3ms/step - loss: 4.1874 - mse: 4.1874\n",
            "Epoch 268/500\n",
            "105/105 [==============================] - 0s 3ms/step - loss: 4.1240 - mse: 4.1240\n",
            "Epoch 269/500\n",
            "105/105 [==============================] - 0s 3ms/step - loss: 4.1162 - mse: 4.1162\n",
            "Epoch 270/500\n",
            "105/105 [==============================] - 0s 3ms/step - loss: 4.1506 - mse: 4.1506\n",
            "Epoch 271/500\n",
            "105/105 [==============================] - 0s 3ms/step - loss: 4.1510 - mse: 4.1510\n",
            "Epoch 272/500\n",
            "105/105 [==============================] - 0s 3ms/step - loss: 4.1161 - mse: 4.1161\n",
            "Epoch 273/500\n",
            "105/105 [==============================] - 0s 3ms/step - loss: 4.2279 - mse: 4.2279\n",
            "Epoch 274/500\n",
            "105/105 [==============================] - 0s 3ms/step - loss: 4.2057 - mse: 4.2057\n",
            "Epoch 275/500\n",
            "105/105 [==============================] - 0s 3ms/step - loss: 4.1537 - mse: 4.1537\n",
            "Epoch 276/500\n",
            "105/105 [==============================] - 0s 3ms/step - loss: 4.1645 - mse: 4.1645\n",
            "Epoch 277/500\n",
            "105/105 [==============================] - 0s 3ms/step - loss: 4.1249 - mse: 4.1249\n",
            "Epoch 278/500\n",
            "105/105 [==============================] - 0s 3ms/step - loss: 4.1184 - mse: 4.1184\n",
            "Epoch 279/500\n",
            "105/105 [==============================] - 0s 3ms/step - loss: 4.1411 - mse: 4.1411\n",
            "Epoch 280/500\n",
            "105/105 [==============================] - 0s 3ms/step - loss: 4.1858 - mse: 4.1858\n",
            "Epoch 281/500\n",
            "105/105 [==============================] - 0s 3ms/step - loss: 4.1502 - mse: 4.1502\n",
            "Epoch 282/500\n",
            "105/105 [==============================] - 0s 3ms/step - loss: 4.1449 - mse: 4.1449\n",
            "Epoch 283/500\n",
            "105/105 [==============================] - 0s 3ms/step - loss: 4.1203 - mse: 4.1203\n",
            "Epoch 284/500\n",
            "105/105 [==============================] - 0s 3ms/step - loss: 4.1539 - mse: 4.1539\n",
            "Epoch 285/500\n",
            "105/105 [==============================] - 0s 3ms/step - loss: 4.1305 - mse: 4.1305\n",
            "Epoch 286/500\n",
            "105/105 [==============================] - 0s 3ms/step - loss: 4.1132 - mse: 4.1132\n",
            "Epoch 287/500\n",
            "105/105 [==============================] - 0s 3ms/step - loss: 4.1910 - mse: 4.1910\n",
            "Epoch 288/500\n",
            "105/105 [==============================] - 0s 3ms/step - loss: 4.1968 - mse: 4.1968\n",
            "Epoch 289/500\n",
            "105/105 [==============================] - 0s 3ms/step - loss: 4.2582 - mse: 4.2582\n",
            "Epoch 290/500\n",
            "105/105 [==============================] - 0s 3ms/step - loss: 4.1652 - mse: 4.1652\n",
            "Epoch 291/500\n",
            "105/105 [==============================] - 0s 3ms/step - loss: 4.1293 - mse: 4.1293\n",
            "Epoch 292/500\n",
            "105/105 [==============================] - 0s 3ms/step - loss: 4.1650 - mse: 4.1650\n",
            "Epoch 293/500\n",
            "105/105 [==============================] - 0s 3ms/step - loss: 4.1459 - mse: 4.1459\n",
            "Epoch 294/500\n",
            "105/105 [==============================] - 0s 3ms/step - loss: 4.1498 - mse: 4.1498\n",
            "Epoch 295/500\n",
            "105/105 [==============================] - 0s 3ms/step - loss: 4.1668 - mse: 4.1668\n",
            "Epoch 296/500\n",
            "105/105 [==============================] - 0s 3ms/step - loss: 4.1260 - mse: 4.1260\n",
            "Epoch 297/500\n",
            "105/105 [==============================] - 0s 3ms/step - loss: 4.0979 - mse: 4.0979\n",
            "Epoch 298/500\n",
            "105/105 [==============================] - 0s 3ms/step - loss: 4.1088 - mse: 4.1088\n",
            "Epoch 299/500\n",
            "105/105 [==============================] - 0s 4ms/step - loss: 4.1436 - mse: 4.1436\n",
            "Epoch 300/500\n",
            "105/105 [==============================] - 0s 3ms/step - loss: 4.1441 - mse: 4.1441\n",
            "Epoch 301/500\n",
            "105/105 [==============================] - 0s 3ms/step - loss: 4.1568 - mse: 4.1568\n",
            "Epoch 302/500\n",
            "105/105 [==============================] - 0s 3ms/step - loss: 4.1600 - mse: 4.1600\n",
            "Epoch 303/500\n",
            "105/105 [==============================] - 0s 3ms/step - loss: 4.1566 - mse: 4.1566\n",
            "Epoch 304/500\n",
            "105/105 [==============================] - 0s 3ms/step - loss: 4.1531 - mse: 4.1531\n",
            "Epoch 305/500\n",
            "105/105 [==============================] - 0s 3ms/step - loss: 4.1749 - mse: 4.1749\n",
            "Epoch 306/500\n",
            "105/105 [==============================] - 0s 3ms/step - loss: 4.0952 - mse: 4.0952\n",
            "Epoch 307/500\n",
            "105/105 [==============================] - 0s 4ms/step - loss: 4.1305 - mse: 4.1305\n",
            "Epoch 308/500\n",
            "105/105 [==============================] - 0s 3ms/step - loss: 4.1769 - mse: 4.1769\n",
            "Epoch 309/500\n",
            "105/105 [==============================] - 0s 3ms/step - loss: 4.1162 - mse: 4.1162\n",
            "Epoch 310/500\n",
            "105/105 [==============================] - 0s 3ms/step - loss: 4.1230 - mse: 4.1230\n",
            "Epoch 311/500\n",
            "105/105 [==============================] - 0s 3ms/step - loss: 4.1118 - mse: 4.1118\n",
            "Epoch 312/500\n",
            "105/105 [==============================] - 0s 3ms/step - loss: 4.1227 - mse: 4.1227\n",
            "Epoch 313/500\n",
            "105/105 [==============================] - 0s 3ms/step - loss: 4.1094 - mse: 4.1094\n",
            "Epoch 314/500\n",
            "105/105 [==============================] - 0s 3ms/step - loss: 4.1425 - mse: 4.1425\n",
            "Epoch 315/500\n",
            "105/105 [==============================] - 0s 3ms/step - loss: 4.1629 - mse: 4.1629\n",
            "Epoch 316/500\n",
            "105/105 [==============================] - 0s 3ms/step - loss: 4.1113 - mse: 4.1113\n",
            "Epoch 317/500\n",
            "105/105 [==============================] - 0s 3ms/step - loss: 4.1229 - mse: 4.1229\n",
            "Epoch 318/500\n",
            "105/105 [==============================] - 0s 3ms/step - loss: 4.1494 - mse: 4.1494\n",
            "Epoch 319/500\n",
            "105/105 [==============================] - 0s 3ms/step - loss: 4.2084 - mse: 4.2084\n",
            "Epoch 320/500\n",
            "105/105 [==============================] - 0s 3ms/step - loss: 4.1335 - mse: 4.1335\n",
            "Epoch 321/500\n",
            "105/105 [==============================] - 0s 3ms/step - loss: 4.1638 - mse: 4.1638\n",
            "Epoch 322/500\n",
            "105/105 [==============================] - 0s 3ms/step - loss: 4.1058 - mse: 4.1058\n",
            "Epoch 323/500\n",
            "105/105 [==============================] - 0s 3ms/step - loss: 4.1061 - mse: 4.1061\n",
            "Epoch 324/500\n",
            "105/105 [==============================] - 0s 3ms/step - loss: 4.1110 - mse: 4.1110\n",
            "Epoch 325/500\n",
            "105/105 [==============================] - 0s 3ms/step - loss: 4.1727 - mse: 4.1727\n",
            "Epoch 326/500\n",
            "105/105 [==============================] - 0s 3ms/step - loss: 4.1123 - mse: 4.1123\n",
            "Epoch 327/500\n",
            "105/105 [==============================] - 0s 3ms/step - loss: 4.1803 - mse: 4.1803\n",
            "Epoch 328/500\n",
            "105/105 [==============================] - 0s 3ms/step - loss: 4.1832 - mse: 4.1832\n",
            "Epoch 329/500\n",
            "105/105 [==============================] - 0s 3ms/step - loss: 4.1318 - mse: 4.1318\n",
            "Epoch 330/500\n",
            "105/105 [==============================] - 0s 3ms/step - loss: 4.0872 - mse: 4.0872\n",
            "Epoch 331/500\n",
            "105/105 [==============================] - 0s 3ms/step - loss: 4.1637 - mse: 4.1637\n",
            "Epoch 332/500\n",
            "105/105 [==============================] - 0s 3ms/step - loss: 4.0980 - mse: 4.0980\n",
            "Epoch 333/500\n",
            "105/105 [==============================] - 0s 3ms/step - loss: 4.1489 - mse: 4.1489\n",
            "Epoch 334/500\n",
            "105/105 [==============================] - 0s 3ms/step - loss: 4.1198 - mse: 4.1198\n",
            "Epoch 335/500\n",
            "105/105 [==============================] - 0s 3ms/step - loss: 4.1335 - mse: 4.1335\n",
            "Epoch 336/500\n",
            "105/105 [==============================] - 0s 3ms/step - loss: 4.1087 - mse: 4.1087\n",
            "Epoch 337/500\n",
            "105/105 [==============================] - 0s 3ms/step - loss: 4.1093 - mse: 4.1093\n",
            "Epoch 338/500\n",
            "105/105 [==============================] - 0s 3ms/step - loss: 4.1350 - mse: 4.1350\n",
            "Epoch 339/500\n",
            "105/105 [==============================] - 0s 3ms/step - loss: 4.1234 - mse: 4.1234\n",
            "Epoch 340/500\n",
            "105/105 [==============================] - 0s 3ms/step - loss: 4.1300 - mse: 4.1300\n",
            "Epoch 341/500\n",
            "105/105 [==============================] - 0s 3ms/step - loss: 4.1501 - mse: 4.1501\n",
            "Epoch 342/500\n",
            "105/105 [==============================] - 0s 3ms/step - loss: 4.1389 - mse: 4.1389\n",
            "Epoch 343/500\n",
            "105/105 [==============================] - 0s 3ms/step - loss: 4.1014 - mse: 4.1014\n",
            "Epoch 344/500\n",
            "105/105 [==============================] - 0s 3ms/step - loss: 4.1132 - mse: 4.1132\n",
            "Epoch 345/500\n",
            "105/105 [==============================] - 0s 3ms/step - loss: 4.1237 - mse: 4.1237\n",
            "Epoch 346/500\n",
            "105/105 [==============================] - 0s 3ms/step - loss: 4.1576 - mse: 4.1576\n",
            "Epoch 347/500\n",
            "105/105 [==============================] - 0s 4ms/step - loss: 4.0977 - mse: 4.0977\n",
            "Epoch 348/500\n",
            "105/105 [==============================] - 0s 3ms/step - loss: 4.1452 - mse: 4.1452\n",
            "Epoch 349/500\n",
            "105/105 [==============================] - 0s 3ms/step - loss: 4.1005 - mse: 4.1005\n",
            "Epoch 350/500\n",
            "105/105 [==============================] - 0s 3ms/step - loss: 4.1276 - mse: 4.1276\n",
            "Epoch 351/500\n",
            "105/105 [==============================] - 0s 3ms/step - loss: 4.1283 - mse: 4.1283\n",
            "Epoch 352/500\n",
            "105/105 [==============================] - 0s 3ms/step - loss: 4.1494 - mse: 4.1494\n",
            "Epoch 353/500\n",
            "105/105 [==============================] - 0s 4ms/step - loss: 4.1833 - mse: 4.1833\n",
            "Epoch 354/500\n",
            "105/105 [==============================] - 0s 3ms/step - loss: 4.1026 - mse: 4.1026\n",
            "Epoch 355/500\n",
            "105/105 [==============================] - 0s 3ms/step - loss: 4.0948 - mse: 4.0948\n",
            "Epoch 356/500\n",
            "105/105 [==============================] - 0s 4ms/step - loss: 4.1004 - mse: 4.1004\n",
            "Epoch 357/500\n",
            "105/105 [==============================] - 0s 3ms/step - loss: 4.1149 - mse: 4.1149\n",
            "Epoch 358/500\n",
            "105/105 [==============================] - 0s 3ms/step - loss: 4.1012 - mse: 4.1012\n",
            "Epoch 359/500\n",
            "105/105 [==============================] - 0s 3ms/step - loss: 4.1559 - mse: 4.1559\n",
            "Epoch 360/500\n",
            "105/105 [==============================] - 0s 3ms/step - loss: 4.1469 - mse: 4.1469\n",
            "Epoch 361/500\n",
            "105/105 [==============================] - 0s 4ms/step - loss: 4.0806 - mse: 4.0806\n",
            "Epoch 362/500\n",
            "105/105 [==============================] - 0s 3ms/step - loss: 4.1654 - mse: 4.1654\n",
            "Epoch 363/500\n",
            "105/105 [==============================] - 0s 4ms/step - loss: 4.1138 - mse: 4.1138\n",
            "Epoch 364/500\n",
            "105/105 [==============================] - 0s 3ms/step - loss: 4.0971 - mse: 4.0971\n",
            "Epoch 365/500\n",
            "105/105 [==============================] - 0s 3ms/step - loss: 4.0911 - mse: 4.0911\n",
            "Epoch 366/500\n",
            "105/105 [==============================] - 0s 3ms/step - loss: 4.1014 - mse: 4.1014\n",
            "Epoch 367/500\n",
            "105/105 [==============================] - 0s 4ms/step - loss: 4.0875 - mse: 4.0875\n",
            "Epoch 368/500\n",
            "105/105 [==============================] - 0s 3ms/step - loss: 4.1792 - mse: 4.1792\n",
            "Epoch 369/500\n",
            "105/105 [==============================] - 0s 3ms/step - loss: 4.1032 - mse: 4.1032\n",
            "Epoch 370/500\n",
            "105/105 [==============================] - 0s 3ms/step - loss: 4.0891 - mse: 4.0891\n",
            "Epoch 371/500\n",
            "105/105 [==============================] - 0s 3ms/step - loss: 4.0863 - mse: 4.0863\n",
            "Epoch 372/500\n",
            "105/105 [==============================] - 0s 3ms/step - loss: 4.0860 - mse: 4.0860\n",
            "Epoch 373/500\n",
            "105/105 [==============================] - 0s 3ms/step - loss: 4.1351 - mse: 4.1351\n",
            "Epoch 374/500\n",
            "105/105 [==============================] - 0s 3ms/step - loss: 4.0884 - mse: 4.0884\n",
            "Epoch 375/500\n",
            "105/105 [==============================] - 0s 3ms/step - loss: 4.0828 - mse: 4.0828\n",
            "Epoch 376/500\n",
            "105/105 [==============================] - 0s 3ms/step - loss: 4.1089 - mse: 4.1089\n",
            "Epoch 377/500\n",
            "105/105 [==============================] - 0s 3ms/step - loss: 4.0854 - mse: 4.0854\n",
            "Epoch 378/500\n",
            "105/105 [==============================] - 0s 3ms/step - loss: 4.0698 - mse: 4.0698\n",
            "Epoch 379/500\n",
            "105/105 [==============================] - 0s 3ms/step - loss: 4.1126 - mse: 4.1126\n",
            "Epoch 380/500\n",
            "105/105 [==============================] - 0s 3ms/step - loss: 4.1476 - mse: 4.1476\n",
            "Epoch 381/500\n",
            "105/105 [==============================] - 0s 3ms/step - loss: 4.0438 - mse: 4.0438\n",
            "Epoch 382/500\n",
            "105/105 [==============================] - 0s 3ms/step - loss: 4.1073 - mse: 4.1073\n",
            "Epoch 383/500\n",
            "105/105 [==============================] - 0s 3ms/step - loss: 4.1715 - mse: 4.1715\n",
            "Epoch 384/500\n",
            "105/105 [==============================] - 0s 3ms/step - loss: 4.0663 - mse: 4.0663\n",
            "Epoch 385/500\n",
            "105/105 [==============================] - 0s 3ms/step - loss: 4.0760 - mse: 4.0760\n",
            "Epoch 386/500\n",
            "105/105 [==============================] - 0s 3ms/step - loss: 4.0905 - mse: 4.0905\n",
            "Epoch 387/500\n",
            "105/105 [==============================] - 0s 3ms/step - loss: 4.1072 - mse: 4.1072\n",
            "Epoch 388/500\n",
            "105/105 [==============================] - 0s 3ms/step - loss: 4.1347 - mse: 4.1347\n",
            "Epoch 389/500\n",
            "105/105 [==============================] - 0s 4ms/step - loss: 4.1207 - mse: 4.1207\n",
            "Epoch 390/500\n",
            "105/105 [==============================] - 0s 4ms/step - loss: 4.1062 - mse: 4.1062\n",
            "Epoch 391/500\n",
            "105/105 [==============================] - 0s 3ms/step - loss: 4.1162 - mse: 4.1162\n",
            "Epoch 392/500\n",
            "105/105 [==============================] - 0s 4ms/step - loss: 4.0874 - mse: 4.0874\n",
            "Epoch 393/500\n",
            "105/105 [==============================] - 0s 3ms/step - loss: 4.0832 - mse: 4.0832\n",
            "Epoch 394/500\n",
            "105/105 [==============================] - 0s 3ms/step - loss: 4.0552 - mse: 4.0552\n",
            "Epoch 395/500\n",
            "105/105 [==============================] - 0s 3ms/step - loss: 4.0838 - mse: 4.0838\n",
            "Epoch 396/500\n",
            "105/105 [==============================] - 0s 3ms/step - loss: 4.0981 - mse: 4.0981\n",
            "Epoch 397/500\n",
            "105/105 [==============================] - 0s 3ms/step - loss: 4.0842 - mse: 4.0842\n",
            "Epoch 398/500\n",
            "105/105 [==============================] - 0s 3ms/step - loss: 4.0667 - mse: 4.0667\n",
            "Epoch 399/500\n",
            "105/105 [==============================] - 0s 3ms/step - loss: 4.0831 - mse: 4.0831\n",
            "Epoch 400/500\n",
            "105/105 [==============================] - 0s 3ms/step - loss: 4.0952 - mse: 4.0952\n",
            "Epoch 401/500\n",
            "105/105 [==============================] - 0s 3ms/step - loss: 4.0714 - mse: 4.0714\n",
            "Epoch 402/500\n",
            "105/105 [==============================] - 0s 3ms/step - loss: 4.1222 - mse: 4.1222\n",
            "Epoch 403/500\n",
            "105/105 [==============================] - 0s 3ms/step - loss: 4.0546 - mse: 4.0546\n",
            "Epoch 404/500\n",
            "105/105 [==============================] - 0s 3ms/step - loss: 4.0670 - mse: 4.0670\n",
            "Epoch 405/500\n",
            "105/105 [==============================] - 0s 3ms/step - loss: 4.1505 - mse: 4.1505\n",
            "Epoch 406/500\n",
            "105/105 [==============================] - 0s 3ms/step - loss: 4.0788 - mse: 4.0788\n",
            "Epoch 407/500\n",
            "105/105 [==============================] - 0s 3ms/step - loss: 4.1424 - mse: 4.1424\n",
            "Epoch 408/500\n",
            "105/105 [==============================] - 0s 3ms/step - loss: 4.0867 - mse: 4.0867\n",
            "Epoch 409/500\n",
            "105/105 [==============================] - 0s 3ms/step - loss: 4.0728 - mse: 4.0728\n",
            "Epoch 410/500\n",
            "105/105 [==============================] - 0s 3ms/step - loss: 4.2030 - mse: 4.2030\n",
            "Epoch 411/500\n",
            "105/105 [==============================] - 0s 3ms/step - loss: 4.0608 - mse: 4.0608\n",
            "Epoch 412/500\n",
            "105/105 [==============================] - 0s 3ms/step - loss: 4.1047 - mse: 4.1047\n",
            "Epoch 413/500\n",
            "105/105 [==============================] - 0s 3ms/step - loss: 4.0544 - mse: 4.0544\n",
            "Epoch 414/500\n",
            "105/105 [==============================] - 0s 3ms/step - loss: 4.1144 - mse: 4.1144\n",
            "Epoch 415/500\n",
            "105/105 [==============================] - 0s 3ms/step - loss: 4.1594 - mse: 4.1594\n",
            "Epoch 416/500\n",
            "105/105 [==============================] - 0s 4ms/step - loss: 4.0880 - mse: 4.0880\n",
            "Epoch 417/500\n",
            "105/105 [==============================] - 0s 3ms/step - loss: 4.0868 - mse: 4.0868\n",
            "Epoch 418/500\n",
            "105/105 [==============================] - 0s 3ms/step - loss: 4.1164 - mse: 4.1164\n",
            "Epoch 419/500\n",
            "105/105 [==============================] - 0s 3ms/step - loss: 4.0780 - mse: 4.0780\n",
            "Epoch 420/500\n",
            "105/105 [==============================] - 0s 3ms/step - loss: 4.0279 - mse: 4.0279\n",
            "Epoch 421/500\n",
            "105/105 [==============================] - 0s 3ms/step - loss: 4.0685 - mse: 4.0685\n",
            "Epoch 422/500\n",
            "105/105 [==============================] - 0s 3ms/step - loss: 4.0582 - mse: 4.0582\n",
            "Epoch 423/500\n",
            "105/105 [==============================] - 0s 3ms/step - loss: 4.0856 - mse: 4.0856\n",
            "Epoch 424/500\n",
            "105/105 [==============================] - 0s 3ms/step - loss: 4.0651 - mse: 4.0651\n",
            "Epoch 425/500\n",
            "105/105 [==============================] - 0s 3ms/step - loss: 4.0507 - mse: 4.0507\n",
            "Epoch 426/500\n",
            "105/105 [==============================] - 0s 3ms/step - loss: 4.0332 - mse: 4.0332\n",
            "Epoch 427/500\n",
            "105/105 [==============================] - 0s 3ms/step - loss: 4.1232 - mse: 4.1232\n",
            "Epoch 428/500\n",
            "105/105 [==============================] - 0s 4ms/step - loss: 4.0366 - mse: 4.0366\n",
            "Epoch 429/500\n",
            "105/105 [==============================] - 0s 4ms/step - loss: 4.0613 - mse: 4.0613\n",
            "Epoch 430/500\n",
            "105/105 [==============================] - 0s 3ms/step - loss: 4.0537 - mse: 4.0537\n",
            "Epoch 431/500\n",
            "105/105 [==============================] - 0s 4ms/step - loss: 4.0267 - mse: 4.0267\n",
            "Epoch 432/500\n",
            "105/105 [==============================] - 0s 3ms/step - loss: 4.1055 - mse: 4.1055\n",
            "Epoch 433/500\n",
            "105/105 [==============================] - 0s 3ms/step - loss: 4.0401 - mse: 4.0401\n",
            "Epoch 434/500\n",
            "105/105 [==============================] - 0s 4ms/step - loss: 4.0538 - mse: 4.0538\n",
            "Epoch 435/500\n",
            "105/105 [==============================] - 0s 3ms/step - loss: 4.0681 - mse: 4.0681\n",
            "Epoch 436/500\n",
            "105/105 [==============================] - 0s 4ms/step - loss: 4.0977 - mse: 4.0977\n",
            "Epoch 437/500\n",
            "105/105 [==============================] - 0s 3ms/step - loss: 4.0349 - mse: 4.0349\n",
            "Epoch 438/500\n",
            "105/105 [==============================] - 0s 3ms/step - loss: 4.1249 - mse: 4.1249\n",
            "Epoch 439/500\n",
            "105/105 [==============================] - 0s 3ms/step - loss: 4.1290 - mse: 4.1290\n",
            "Epoch 440/500\n",
            "105/105 [==============================] - 0s 3ms/step - loss: 4.0929 - mse: 4.0929\n",
            "Epoch 441/500\n",
            "105/105 [==============================] - 0s 3ms/step - loss: 4.1049 - mse: 4.1049\n",
            "Epoch 442/500\n",
            "105/105 [==============================] - 0s 3ms/step - loss: 4.0306 - mse: 4.0306\n",
            "Epoch 443/500\n",
            "105/105 [==============================] - 0s 4ms/step - loss: 4.0460 - mse: 4.0460\n",
            "Epoch 444/500\n",
            "105/105 [==============================] - 0s 3ms/step - loss: 4.0347 - mse: 4.0347\n",
            "Epoch 445/500\n",
            "105/105 [==============================] - 0s 4ms/step - loss: 4.0540 - mse: 4.0540\n",
            "Epoch 446/500\n",
            "105/105 [==============================] - 0s 4ms/step - loss: 4.0640 - mse: 4.0640\n",
            "Epoch 447/500\n",
            "105/105 [==============================] - 0s 4ms/step - loss: 4.1338 - mse: 4.1338\n",
            "Epoch 448/500\n",
            "105/105 [==============================] - 0s 3ms/step - loss: 4.0375 - mse: 4.0375\n",
            "Epoch 449/500\n",
            "105/105 [==============================] - 0s 3ms/step - loss: 4.0224 - mse: 4.0224\n",
            "Epoch 450/500\n",
            "105/105 [==============================] - 0s 4ms/step - loss: 4.0349 - mse: 4.0349\n",
            "Epoch 451/500\n",
            "105/105 [==============================] - 0s 3ms/step - loss: 4.0679 - mse: 4.0679\n",
            "Epoch 452/500\n",
            "105/105 [==============================] - 0s 3ms/step - loss: 4.0161 - mse: 4.0161\n",
            "Epoch 453/500\n",
            "105/105 [==============================] - 0s 3ms/step - loss: 4.1092 - mse: 4.1092\n",
            "Epoch 454/500\n",
            "105/105 [==============================] - 0s 3ms/step - loss: 4.0406 - mse: 4.0406\n",
            "Epoch 455/500\n",
            "105/105 [==============================] - 0s 3ms/step - loss: 4.0297 - mse: 4.0297\n",
            "Epoch 456/500\n",
            "105/105 [==============================] - 0s 4ms/step - loss: 4.1170 - mse: 4.1170\n",
            "Epoch 457/500\n",
            "105/105 [==============================] - 0s 3ms/step - loss: 4.0882 - mse: 4.0882\n",
            "Epoch 458/500\n",
            "105/105 [==============================] - 0s 4ms/step - loss: 4.0436 - mse: 4.0436\n",
            "Epoch 459/500\n",
            "105/105 [==============================] - 0s 4ms/step - loss: 4.0337 - mse: 4.0337\n",
            "Epoch 460/500\n",
            "105/105 [==============================] - 0s 3ms/step - loss: 4.0673 - mse: 4.0673\n",
            "Epoch 461/500\n",
            "105/105 [==============================] - 0s 4ms/step - loss: 4.0446 - mse: 4.0446\n",
            "Epoch 462/500\n",
            "105/105 [==============================] - 0s 4ms/step - loss: 4.0196 - mse: 4.0196\n",
            "Epoch 463/500\n",
            "105/105 [==============================] - 0s 3ms/step - loss: 4.0697 - mse: 4.0697\n",
            "Epoch 464/500\n",
            "105/105 [==============================] - 0s 3ms/step - loss: 4.0173 - mse: 4.0173\n",
            "Epoch 465/500\n",
            "105/105 [==============================] - 0s 3ms/step - loss: 4.0444 - mse: 4.0444\n",
            "Epoch 466/500\n",
            "105/105 [==============================] - 0s 4ms/step - loss: 4.0372 - mse: 4.0372\n",
            "Epoch 467/500\n",
            "105/105 [==============================] - 0s 4ms/step - loss: 4.0318 - mse: 4.0318\n",
            "Epoch 468/500\n",
            "105/105 [==============================] - 0s 3ms/step - loss: 4.0459 - mse: 4.0459\n",
            "Epoch 469/500\n",
            "105/105 [==============================] - 0s 3ms/step - loss: 4.0835 - mse: 4.0835\n",
            "Epoch 470/500\n",
            "105/105 [==============================] - 0s 3ms/step - loss: 4.0639 - mse: 4.0639\n",
            "Epoch 471/500\n",
            "105/105 [==============================] - 0s 3ms/step - loss: 4.0303 - mse: 4.0303\n",
            "Epoch 472/500\n",
            "105/105 [==============================] - 0s 4ms/step - loss: 4.0522 - mse: 4.0522\n",
            "Epoch 473/500\n",
            "105/105 [==============================] - 0s 3ms/step - loss: 4.0402 - mse: 4.0402\n",
            "Epoch 474/500\n",
            "105/105 [==============================] - 0s 3ms/step - loss: 4.0431 - mse: 4.0431\n",
            "Epoch 475/500\n",
            "105/105 [==============================] - 0s 4ms/step - loss: 4.0573 - mse: 4.0573\n",
            "Epoch 476/500\n",
            "105/105 [==============================] - 0s 4ms/step - loss: 4.0342 - mse: 4.0342\n",
            "Epoch 477/500\n",
            "105/105 [==============================] - 0s 4ms/step - loss: 4.0062 - mse: 4.0062\n",
            "Epoch 478/500\n",
            "105/105 [==============================] - 0s 3ms/step - loss: 4.0132 - mse: 4.0132\n",
            "Epoch 479/500\n",
            "105/105 [==============================] - 0s 3ms/step - loss: 4.0466 - mse: 4.0466\n",
            "Epoch 480/500\n",
            "105/105 [==============================] - 0s 4ms/step - loss: 4.0919 - mse: 4.0919\n",
            "Epoch 481/500\n",
            "105/105 [==============================] - 0s 3ms/step - loss: 4.0131 - mse: 4.0131\n",
            "Epoch 482/500\n",
            "105/105 [==============================] - 0s 4ms/step - loss: 4.0251 - mse: 4.0251\n",
            "Epoch 483/500\n",
            "105/105 [==============================] - 0s 3ms/step - loss: 4.0393 - mse: 4.0393\n",
            "Epoch 484/500\n",
            "105/105 [==============================] - 0s 3ms/step - loss: 4.0289 - mse: 4.0289\n",
            "Epoch 485/500\n",
            "105/105 [==============================] - 0s 4ms/step - loss: 4.1115 - mse: 4.1115\n",
            "Epoch 486/500\n",
            "105/105 [==============================] - 0s 4ms/step - loss: 4.0378 - mse: 4.0378\n",
            "Epoch 487/500\n",
            "105/105 [==============================] - 0s 4ms/step - loss: 4.0208 - mse: 4.0208\n",
            "Epoch 488/500\n",
            "105/105 [==============================] - 0s 3ms/step - loss: 4.0276 - mse: 4.0276\n",
            "Epoch 489/500\n",
            "105/105 [==============================] - 0s 4ms/step - loss: 4.0011 - mse: 4.0011\n",
            "Epoch 490/500\n",
            "105/105 [==============================] - 0s 3ms/step - loss: 4.0937 - mse: 4.0937\n",
            "Epoch 491/500\n",
            "105/105 [==============================] - 0s 4ms/step - loss: 4.0312 - mse: 4.0312\n",
            "Epoch 492/500\n",
            "105/105 [==============================] - 0s 3ms/step - loss: 4.0271 - mse: 4.0271\n",
            "Epoch 493/500\n",
            "105/105 [==============================] - 0s 4ms/step - loss: 4.0572 - mse: 4.0572\n",
            "Epoch 494/500\n",
            "105/105 [==============================] - 0s 3ms/step - loss: 4.0056 - mse: 4.0056\n",
            "Epoch 495/500\n",
            "105/105 [==============================] - 0s 3ms/step - loss: 3.9908 - mse: 3.9908\n",
            "Epoch 496/500\n",
            "105/105 [==============================] - 0s 4ms/step - loss: 4.0531 - mse: 4.0531\n",
            "Epoch 497/500\n",
            "105/105 [==============================] - 0s 4ms/step - loss: 3.9999 - mse: 3.9999\n",
            "Epoch 498/500\n",
            "105/105 [==============================] - 0s 3ms/step - loss: 4.0780 - mse: 4.0780\n",
            "Epoch 499/500\n",
            "105/105 [==============================] - 0s 4ms/step - loss: 4.0178 - mse: 4.0178\n",
            "Epoch 500/500\n",
            "105/105 [==============================] - 0s 3ms/step - loss: 4.0348 - mse: 4.0348\n"
          ],
          "name": "stdout"
        },
        {
          "output_type": "execute_result",
          "data": {
            "text/plain": [
              "<keras.callbacks.History at 0x7f07bac2b750>"
            ]
          },
          "metadata": {},
          "execution_count": 31
        }
      ]
    },
    {
      "cell_type": "code",
      "metadata": {
        "colab": {
          "base_uri": "https://localhost:8080/"
        },
        "id": "hW8Pri3i87Z9",
        "outputId": "98bad917-5cb9-4ffb-c723-a65949e9d15f"
      },
      "source": [
        "model.evaluate(OH_X_valid, y_valid, verbose=0)"
      ],
      "execution_count": 32,
      "outputs": [
        {
          "output_type": "execute_result",
          "data": {
            "text/plain": [
              "[4.506470203399658, 4.506470203399658]"
            ]
          },
          "metadata": {},
          "execution_count": 32
        }
      ]
    },
    {
      "cell_type": "code",
      "metadata": {
        "id": "-2czW4e0Fr9p"
      },
      "source": [
        ""
      ],
      "execution_count": null,
      "outputs": []
    }
  ]
}